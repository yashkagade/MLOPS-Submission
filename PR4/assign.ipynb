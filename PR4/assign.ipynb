{
 "cells": [
  {
   "cell_type": "code",
   "execution_count": null,
   "id": "6763412b",
   "metadata": {},
   "outputs": [
    {
     "name": "stdout",
     "output_type": "stream",
     "text": [
      "✅ Dataset downloaded and saved as: Mall_Customers.csv\n"
     ]
    }
   ],
   "source": [
    "# 📦 Import libraries\n",
    "import pandas as pd\n",
    "import requests\n",
    "from io import BytesIO\n",
    "import os\n",
    "\n",
    "# # 📥 Step 1: Download the dataset from the Kaggle alternative source\n",
    "# url = \"https://raw.githubusercontent.com/Mjrovai/Mall-Customers-Segmentation/master/Mall_Customers.csv\"\n",
    "# response = requests.get(url)\n",
    "\n",
    "# 📂 Save the file locally\n",
    "data_path = \"Mall_Customers.csv\"\n",
    "with open(data_path, \"wb\") as f:\n",
    "    f.write(response.content)\n",
    "\n",
    "print(\"✅ Dataset downloaded and saved as:\", data_path)\n"
   ]
  },
  {
   "cell_type": "code",
   "execution_count": 2,
   "id": "b3fb14d9",
   "metadata": {},
   "outputs": [],
   "source": [
    "# 🧱 Step 2: Create a custom chunk iterator class\n",
    "class ChunkIterator:\n",
    "    def __init__(self, file_path, chunk_size=20):\n",
    "        self.file_path = file_path\n",
    "        self.chunk_size = chunk_size\n",
    "\n",
    "    def __iter__(self):\n",
    "        self.iterator = pd.read_csv(self.file_path, chunksize=self.chunk_size)\n",
    "        return self\n",
    "\n",
    "    def __next__(self):\n",
    "        return next(self.iterator)\n",
    "\n",
    "    def chunk_statistics(self):\n",
    "        print(\"📊 Chunk-wise statistics:\\n\")\n",
    "        for idx, chunk in enumerate(self):\n",
    "            print(f\"--- Chunk {idx + 1} ---\")\n",
    "            print(chunk.describe(include='all'))\n",
    "            print(\"\\n\")\n"
   ]
  },
  {
   "cell_type": "code",
   "execution_count": 3,
   "id": "05acc7f5",
   "metadata": {},
   "outputs": [
    {
     "name": "stdout",
     "output_type": "stream",
     "text": [
      "📊 Chunk-wise statistics:\n",
      "\n",
      "--- Chunk 1 ---\n",
      "       404: Not Found\n",
      "count               0\n",
      "unique              0\n",
      "top               NaN\n",
      "freq              NaN\n",
      "\n",
      "\n"
     ]
    }
   ],
   "source": [
    "# ▶️ Step 3: Run the iterator and show chunk-wise statistics\n",
    "iterator = ChunkIterator(data_path, chunk_size=20)\n",
    "iterator.chunk_statistics()\n"
   ]
  },
  {
   "cell_type": "code",
   "execution_count": null,
   "id": "aada9093",
   "metadata": {},
   "outputs": [],
   "source": []
  }
 ],
 "metadata": {
  "kernelspec": {
   "display_name": "Python 3",
   "language": "python",
   "name": "python3"
  },
  "language_info": {
   "codemirror_mode": {
    "name": "ipython",
    "version": 3
   },
   "file_extension": ".py",
   "mimetype": "text/x-python",
   "name": "python",
   "nbconvert_exporter": "python",
   "pygments_lexer": "ipython3",
   "version": "3.12.5"
  }
 },
 "nbformat": 4,
 "nbformat_minor": 5
}
